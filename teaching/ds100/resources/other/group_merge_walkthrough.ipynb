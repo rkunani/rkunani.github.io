{
 "cells": [
  {
   "cell_type": "markdown",
   "metadata": {},
   "source": [
    "# Grouping and Merging Walkthrough"
   ]
  },
  {
   "cell_type": "markdown",
   "metadata": {},
   "source": [
    "**by: Raguvir Kunani** for Data 100, Summer 2019"
   ]
  },
  {
   "cell_type": "markdown",
   "metadata": {},
   "source": [
    "This notebook is meant to (very briefly) introduce the concepts of grouping and merging. More importantly, I want to touch on common use cases as well as mistakes I've seen students make. Hope this is helpful for you!"
   ]
  },
  {
   "cell_type": "code",
   "execution_count": 1,
   "metadata": {
    "scrolled": true
   },
   "outputs": [],
   "source": [
    "import pandas as pd\n",
    "import matplotlib.pyplot as plt\n",
    "import seaborn as sns\n",
    "import warnings\n",
    "warnings.filterwarnings('ignore')\n",
    "%matplotlib inline"
   ]
  },
  {
   "cell_type": "markdown",
   "metadata": {},
   "source": [
    "Throughout the notebook, we will be using data collected by the State of Connecticut on SAT scores and participation. You can find the data [here](https://catalog.data.gov/dataset/sat-school-participation-and-performance-2012-2013)."
   ]
  },
  {
   "cell_type": "code",
   "execution_count": 2,
   "metadata": {
    "scrolled": true
   },
   "outputs": [],
   "source": [
    "data_path = './data/SAT_School_Participation_and_Performance__2012-2013.csv'\n",
    "sat = pd.read_csv(data_path)\n",
    "# Drop columns we don't need\n",
    "drop_cols = ['Participation Rate (estimate): Change%', 'Percent Meeting Benchmark: Change%', \"Test-takers: Change%\"]\n",
    "sat = sat.drop(labels=drop_cols, axis='columns')"
   ]
  },
  {
   "cell_type": "markdown",
   "metadata": {},
   "source": [
    "## Grouping"
   ]
  },
  {
   "cell_type": "markdown",
   "metadata": {},
   "source": [
    "### Motivating the Concept of Grouping"
   ]
  },
  {
   "cell_type": "markdown",
   "metadata": {},
   "source": [
    "Often, we have data that contains multiple groups within it. For example, the [US Census](https://www.census.gov/quickfacts/fact/table/US/PST045218) (which primarily serves to count how many people are in the US) contains data about people of different ages, races, and education levels. In cases like this, we might want to draw conclusions about each group within the data separately.\n",
    "\n",
    "For example, we may ask \"How does income differ among people with different education levels?\" or \"How does unemployment differ among people in different geographical areas?\". Questions like these are most easily answered by using grouping."
   ]
  },
  {
   "cell_type": "markdown",
   "metadata": {},
   "source": [
    "**Grouping is the act of partitioning the elements of our data into groups, based on a certain attribute (or set of attributes) each element has.** Census data, for example can be grouped by age, by state, or by income level."
   ]
  },
  {
   "cell_type": "markdown",
   "metadata": {},
   "source": [
    "### Grouping Syntax"
   ]
  },
  {
   "cell_type": "markdown",
   "metadata": {},
   "source": [
    "Grouping in `pandas` is syntactically simple. To group a DataFrame `df` by the column `col_name`, we simply write `df.groupby('col_name)`. This divides each row of `df` into groups based on the value a given row has for the column `col_name`. **Each unique value of `col_name` gets its own group.**"
   ]
  },
  {
   "cell_type": "markdown",
   "metadata": {},
   "source": [
    "Let's take a look at our SAT data to see what groups could exist within it."
   ]
  },
  {
   "cell_type": "code",
   "execution_count": 3,
   "metadata": {
    "scrolled": true
   },
   "outputs": [
    {
     "data": {
      "text/html": [
       "<div>\n",
       "<style scoped>\n",
       "    .dataframe tbody tr th:only-of-type {\n",
       "        vertical-align: middle;\n",
       "    }\n",
       "\n",
       "    .dataframe tbody tr th {\n",
       "        vertical-align: top;\n",
       "    }\n",
       "\n",
       "    .dataframe thead th {\n",
       "        text-align: right;\n",
       "    }\n",
       "</style>\n",
       "<table border=\"1\" class=\"dataframe\">\n",
       "  <thead>\n",
       "    <tr style=\"text-align: right;\">\n",
       "      <th></th>\n",
       "      <th>District Number</th>\n",
       "      <th>District</th>\n",
       "      <th>School</th>\n",
       "      <th>Test-takers: 2012</th>\n",
       "      <th>Test-takers: 2013</th>\n",
       "      <th>Participation Rate (estimate): 2012</th>\n",
       "      <th>Participation Rate (estimate): 2013</th>\n",
       "      <th>Percent Meeting Benchmark: 2012</th>\n",
       "      <th>Percent Meeting Benchmark: 2013</th>\n",
       "    </tr>\n",
       "  </thead>\n",
       "  <tbody>\n",
       "    <tr>\n",
       "      <th>0</th>\n",
       "      <td>26111</td>\n",
       "      <td>Ansonia</td>\n",
       "      <td>Ansonia High School</td>\n",
       "      <td>118.0</td>\n",
       "      <td>104.0</td>\n",
       "      <td>67.0</td>\n",
       "      <td>61.0</td>\n",
       "      <td>18.0</td>\n",
       "      <td>18.0</td>\n",
       "    </tr>\n",
       "    <tr>\n",
       "      <th>1</th>\n",
       "      <td>46111</td>\n",
       "      <td>Avon</td>\n",
       "      <td>Avon High School</td>\n",
       "      <td>254.0</td>\n",
       "      <td>243.0</td>\n",
       "      <td>90.0</td>\n",
       "      <td>89.0</td>\n",
       "      <td>73.0</td>\n",
       "      <td>75.0</td>\n",
       "    </tr>\n",
       "    <tr>\n",
       "      <th>2</th>\n",
       "      <td>76111</td>\n",
       "      <td>Berlin</td>\n",
       "      <td>Berlin High School</td>\n",
       "      <td>216.0</td>\n",
       "      <td>220.0</td>\n",
       "      <td>81.0</td>\n",
       "      <td>82.0</td>\n",
       "      <td>42.0</td>\n",
       "      <td>49.0</td>\n",
       "    </tr>\n",
       "    <tr>\n",
       "      <th>3</th>\n",
       "      <td>96111</td>\n",
       "      <td>Bethel</td>\n",
       "      <td>Bethel High School</td>\n",
       "      <td>200.0</td>\n",
       "      <td>190.0</td>\n",
       "      <td>86.0</td>\n",
       "      <td>82.0</td>\n",
       "      <td>51.0</td>\n",
       "      <td>49.0</td>\n",
       "    </tr>\n",
       "    <tr>\n",
       "      <th>4</th>\n",
       "      <td>116111</td>\n",
       "      <td>Bloomfield</td>\n",
       "      <td>Bloomfield High School</td>\n",
       "      <td>116.0</td>\n",
       "      <td>130.0</td>\n",
       "      <td>79.0</td>\n",
       "      <td>89.0</td>\n",
       "      <td>11.0</td>\n",
       "      <td>8.0</td>\n",
       "    </tr>\n",
       "  </tbody>\n",
       "</table>\n",
       "</div>"
      ],
      "text/plain": [
       "   District Number    District                  School  Test-takers: 2012  \\\n",
       "0            26111     Ansonia     Ansonia High School              118.0   \n",
       "1            46111        Avon        Avon High School              254.0   \n",
       "2            76111      Berlin      Berlin High School              216.0   \n",
       "3            96111      Bethel      Bethel High School              200.0   \n",
       "4           116111  Bloomfield  Bloomfield High School              116.0   \n",
       "\n",
       "   Test-takers: 2013  Participation Rate (estimate): 2012  \\\n",
       "0              104.0                                 67.0   \n",
       "1              243.0                                 90.0   \n",
       "2              220.0                                 81.0   \n",
       "3              190.0                                 86.0   \n",
       "4              130.0                                 79.0   \n",
       "\n",
       "   Participation Rate (estimate): 2013  Percent Meeting Benchmark: 2012  \\\n",
       "0                                 61.0                             18.0   \n",
       "1                                 89.0                             73.0   \n",
       "2                                 82.0                             42.0   \n",
       "3                                 82.0                             51.0   \n",
       "4                                 89.0                             11.0   \n",
       "\n",
       "   Percent Meeting Benchmark: 2013  \n",
       "0                             18.0  \n",
       "1                             75.0  \n",
       "2                             49.0  \n",
       "3                             49.0  \n",
       "4                              8.0  "
      ]
     },
     "execution_count": 3,
     "metadata": {},
     "output_type": "execute_result"
    }
   ],
   "source": [
    "sat.head()"
   ]
  },
  {
   "cell_type": "markdown",
   "metadata": {},
   "source": [
    "It looks like each row in `sat` corresponds to one school. Each school belongs to a district, so we can group `sat` by district:"
   ]
  },
  {
   "cell_type": "code",
   "execution_count": 4,
   "metadata": {
    "scrolled": true
   },
   "outputs": [
    {
     "data": {
      "text/plain": [
       "<pandas.core.groupby.groupby.DataFrameGroupBy object at 0x1a15366438>"
      ]
     },
     "execution_count": 4,
     "metadata": {},
     "output_type": "execute_result"
    }
   ],
   "source": [
    "sat.groupby('District')"
   ]
  },
  {
   "cell_type": "markdown",
   "metadata": {},
   "source": [
    "**Notice that the result of `.groupby` is a `DataFrameGroupBy` object, *not* a `DataFrame`.** This is a commonly forgotten property of `.groupby` in `pandas`. Remembering it will save you a lot of headache in the future for debugging."
   ]
  },
  {
   "cell_type": "markdown",
   "metadata": {},
   "source": [
    "### Grouping Examples (Use Cases)"
   ]
  },
  {
   "cell_type": "markdown",
   "metadata": {},
   "source": [
    "`DataFrameGroupBy` objects have an important method that you will use extensively in this class: `.agg(func)`.\n",
    "\n",
    "- `.agg(func)` *aggregates* each group with `func`, computing a single value for **each column** of each group. For example, `.agg(sum)` computes the sum of each column in the group. In the end, you will have 1 value for each column of each group."
   ]
  },
  {
   "cell_type": "markdown",
   "metadata": {},
   "source": [
    "**Note:** `func` can be *any* function, even functions you define. Plugging in custom functions is something this class makes heavy use of, and the most convenient way of using custom functions for `.agg` is to use lambda functions (I know, your favorite functions).\n",
    "\n",
    "Another note: `DataFrameGroupBy` objects also have a `.filter(func)` method, which only keeps elements from each group that meet the criteria specified by `func`. You probably won't need `filter` too much in this class but it's useful in general so I thought it would be worth mentioning here."
   ]
  },
  {
   "cell_type": "markdown",
   "metadata": {},
   "source": [
    "#### Using the `.agg` method"
   ]
  },
  {
   "cell_type": "markdown",
   "metadata": {},
   "source": [
    "Now that we have grouped `sat` by district, we can form conclusions about the SAT participation and scores of each district. **Let's see what the average number of test-takers in 2012 was for each district.**"
   ]
  },
  {
   "cell_type": "code",
   "execution_count": 5,
   "metadata": {
    "scrolled": true
   },
   "outputs": [
    {
     "data": {
      "text/plain": [
       "District\n",
       "Amistad Academy District     34.0\n",
       "Ansonia                     118.0\n",
       "Avon                        254.0\n",
       "Berlin                      216.0\n",
       "Bethel                      200.0\n",
       "Name: Test-takers: 2012, dtype: float64"
      ]
     },
     "execution_count": 5,
     "metadata": {},
     "output_type": "execute_result"
    }
   ],
   "source": [
    "avg_test_takers_2012 = sat.groupby('District')['Test-takers: 2012'].agg('mean')\n",
    "\n",
    "# You can also do the same thing with a lambda function\n",
    "# avg_test_takers_2012 = sat.groupby('District')[\"Test-takers: 2012\"].agg(lambda group: sum(group)/len(group))\n",
    "\n",
    "avg_test_takers_2012.head()"
   ]
  },
  {
   "cell_type": "markdown",
   "metadata": {},
   "source": [
    "Let's unpack what just happened by looking at each part of `sat.groupby('District')['Test-takers: 2012'].agg('mean')`:\n",
    "\n",
    "1. `sat.groupby('District')` groups the rows (schools) by district\n",
    "\n",
    "\n",
    "2. `sat.groupby('District')['Test-takers: 2012']` selects only the `'Test-takers: 2012'` column from each group\n",
    "\n",
    "\n",
    "3. `sat.groupby('District')['Test-takers: 2012'].agg('mean')` aggregates the `'Test-takers: 2012'` column within each group by taking the average of the column."
   ]
  },
  {
   "cell_type": "markdown",
   "metadata": {},
   "source": [
    "**Note:** The order of aggregating and selecting the desired column(s) does not matter. The only thing that matters is you *must* group first. This means that `sat.groupby('District').agg('mean')['Test-takers: 2012']` will give the same output."
   ]
  },
  {
   "cell_type": "markdown",
   "metadata": {},
   "source": [
    "**Tip:** Whenever you want to compute a single value (e.g. average, sum, max, min, etc.) for each group in your data, you should use `.agg` with the appropriate aggregating function. In this example, the single value we wanted to compute was the average number of test-takers in 2012."
   ]
  },
  {
   "cell_type": "markdown",
   "metadata": {},
   "source": [
    "**Quiz:** Write code that computes the **number of schools in each district**. The result should be a `Series` where the index is a district and the value is the number of schools in that district."
   ]
  },
  {
   "cell_type": "code",
   "execution_count": 6,
   "metadata": {
    "slideshow": {
     "slide_type": "-"
    }
   },
   "outputs": [
    {
     "data": {
      "text/plain": [
       "District\n",
       "Amistad Academy District    1\n",
       "Ansonia                     1\n",
       "Avon                        1\n",
       "Berlin                      1\n",
       "Bethel                      1\n",
       "Name: School, dtype: int64"
      ]
     },
     "execution_count": 6,
     "metadata": {},
     "output_type": "execute_result"
    }
   ],
   "source": [
    "# This is the answer to the question above. Please attempt to solve the question before looking at the solution;\n",
    "# it's the best way to learn.\n",
    "\n",
    "num_schools_per_district = sat.groupby('District')['School'].agg(lambda group: len(group))\n",
    "num_schools_per_district.head()"
   ]
  },
  {
   "cell_type": "markdown",
   "metadata": {},
   "source": [
    "### Grouping Common Mistakes"
   ]
  },
  {
   "cell_type": "markdown",
   "metadata": {},
   "source": [
    "#### Forgetting that the result of grouping is not a `DataFrame`\n",
    "\n",
    "Many students try to see the result of what happens right after grouping by a column. Specifically, a lot of students try to use the `.head()` method of a `DataFrame` to check if the groups look correct. While a `DataFrameGroupBy` object happens to also have a `.head()` method, it works slightly differently than the `.head()` for a `DataFrame`.\n",
    "\n",
    "You won't be so lucky if try to get the `.shape` of a `DataFrameGroupBy` object."
   ]
  },
  {
   "cell_type": "markdown",
   "metadata": {},
   "source": [
    "#### Calling lambda functions on the `DataFrameGroupBy` object instead of using `.agg(func)`\n",
    "\n",
    "Many students have the right intention of using a lambda function to compute the desired value after grouping, but they often write the lambda function as taking the `DataFrameGroupBy` object as the input rather than using `.agg`. While there could be a way to make this approach also work to get the right answer (I'm not sure if it exists but I would think with enough hacking one could make it work), the authors of `pandas` have spent so much time writing and optimizing the `.agg` method to be much easier to use."
   ]
  },
  {
   "cell_type": "markdown",
   "metadata": {},
   "source": [
    "#### Grouping by a non-categorical or continuous variable\n",
    "\n",
    "Grouping is best used for categorical or otherwise discrete variables. If the idea of grouping is to split data into groups based on what value each element of the data takes on for a certain variable, it makes sense that we want the variable to take on a limited number of values. Otherwise, we will have too many groups (and each group will be relatively uninformative)."
   ]
  },
  {
   "cell_type": "markdown",
   "metadata": {},
   "source": [
    "## Merging"
   ]
  },
  {
   "cell_type": "markdown",
   "metadata": {},
   "source": [
    "### Motivating the Concept of Merging"
   ]
  },
  {
   "cell_type": "markdown",
   "metadata": {},
   "source": [
    "Often, we want to know something about our data that our data doesn't capture. In other to find this extra information, we find another source of data. In the Census example, we might want to understand the demographics of states that tend to vote Republican versus Democratic. To do this, we would have to find information about how each state historically votes.\n",
    "\n",
    "In order for us to use that extra information to make conclusions, we have to *merge* our data with the additional data. **Merging is the act of combining our data with another separate dataset, where the combination exploits a relationship between one variable in our data and one variable in the other dataset.**\n"
   ]
  },
  {
   "cell_type": "markdown",
   "metadata": {},
   "source": [
    "### Merging Syntax"
   ]
  },
  {
   "cell_type": "markdown",
   "metadata": {},
   "source": [
    "`pandas` has 2 different ways of merging `DataFrame`s:\n",
    "\n",
    "1. `pd.merge(left, right, how, left_on, right_on)`: merges `left` with `right` using the join specified by `how`, where the value for `left_on` is the same as the value for `right_on` \n",
    "\n",
    "\n",
    "2. `df.merge(right, how, left_on, right_on)`: same as `pd.merge`, where `df` is `left`"
   ]
  },
  {
   "cell_type": "markdown",
   "metadata": {},
   "source": [
    "Let's see some examples of these 2 merging methods in action. To do this, we will merge our SAT data with data about school quality. You can find the school quality data [here](https://catalog.data.gov/dataset/state-department-of-education-next-generation-school-accountability-data-2014-2015)."
   ]
  },
  {
   "cell_type": "code",
   "execution_count": 7,
   "metadata": {},
   "outputs": [
    {
     "data": {
      "text/html": [
       "<div>\n",
       "<style scoped>\n",
       "    .dataframe tbody tr th:only-of-type {\n",
       "        vertical-align: middle;\n",
       "    }\n",
       "\n",
       "    .dataframe tbody tr th {\n",
       "        vertical-align: top;\n",
       "    }\n",
       "\n",
       "    .dataframe thead th {\n",
       "        text-align: right;\n",
       "    }\n",
       "</style>\n",
       "<table border=\"1\" class=\"dataframe\">\n",
       "  <thead>\n",
       "    <tr style=\"text-align: right;\">\n",
       "      <th></th>\n",
       "      <th>District Name</th>\n",
       "      <th>District Code</th>\n",
       "      <th>School Name</th>\n",
       "      <th>School Code</th>\n",
       "      <th>School OrgType</th>\n",
       "      <th>School Low Grade</th>\n",
       "      <th>School High Grade</th>\n",
       "      <th>School Title I Type</th>\n",
       "      <th>Category</th>\n",
       "      <th>Total Points</th>\n",
       "      <th>...</th>\n",
       "      <th>Grad6YrHNNHNDiff</th>\n",
       "      <th>Threshold_Mean_ELA</th>\n",
       "      <th>Threshold_Mean_Math</th>\n",
       "      <th>Threshold_Mean_Sci</th>\n",
       "      <th>Threshold_Mean_Grad</th>\n",
       "      <th>Classification</th>\n",
       "      <th>State Category</th>\n",
       "      <th># of Distinctions</th>\n",
       "      <th>School of Distinction - Highest Performing Overall</th>\n",
       "      <th>School of Distintion - Highest Performing High Needs</th>\n",
       "    </tr>\n",
       "  </thead>\n",
       "  <tbody>\n",
       "    <tr>\n",
       "      <th>6</th>\n",
       "      <td>Ansonia School District</td>\n",
       "      <td>20011</td>\n",
       "      <td>Ansonia High School</td>\n",
       "      <td>26111</td>\n",
       "      <td>Public Schools</td>\n",
       "      <td>9</td>\n",
       "      <td>12.0</td>\n",
       "      <td>NaN</td>\n",
       "      <td>SchoolTot</td>\n",
       "      <td>890.9</td>\n",
       "      <td>...</td>\n",
       "      <td>11.6</td>\n",
       "      <td>16.8</td>\n",
       "      <td>19.5</td>\n",
       "      <td>17.3</td>\n",
       "      <td>12.6</td>\n",
       "      <td>NaN</td>\n",
       "      <td>NaN</td>\n",
       "      <td>0</td>\n",
       "      <td>NaN</td>\n",
       "      <td>NaN</td>\n",
       "    </tr>\n",
       "    <tr>\n",
       "      <th>14</th>\n",
       "      <td>Avon School District</td>\n",
       "      <td>40011</td>\n",
       "      <td>Avon High School</td>\n",
       "      <td>46111</td>\n",
       "      <td>Public Schools</td>\n",
       "      <td>9</td>\n",
       "      <td>12.0</td>\n",
       "      <td>Targeted Assistance</td>\n",
       "      <td>SchoolTot</td>\n",
       "      <td>1077.2</td>\n",
       "      <td>...</td>\n",
       "      <td>0.8</td>\n",
       "      <td>16.8</td>\n",
       "      <td>19.5</td>\n",
       "      <td>17.3</td>\n",
       "      <td>12.6</td>\n",
       "      <td>NaN</td>\n",
       "      <td>NaN</td>\n",
       "      <td>0</td>\n",
       "      <td>NaN</td>\n",
       "      <td>NaN</td>\n",
       "    </tr>\n",
       "    <tr>\n",
       "      <th>23</th>\n",
       "      <td>Berlin School District</td>\n",
       "      <td>70011</td>\n",
       "      <td>Berlin High School</td>\n",
       "      <td>76111</td>\n",
       "      <td>Public Schools</td>\n",
       "      <td>9</td>\n",
       "      <td>12.0</td>\n",
       "      <td>Targeted Assistance</td>\n",
       "      <td>SchoolTot</td>\n",
       "      <td>903.3</td>\n",
       "      <td>...</td>\n",
       "      <td>-4.3</td>\n",
       "      <td>16.8</td>\n",
       "      <td>19.5</td>\n",
       "      <td>17.3</td>\n",
       "      <td>12.6</td>\n",
       "      <td>FOCUS ELA</td>\n",
       "      <td>4.0</td>\n",
       "      <td>0</td>\n",
       "      <td>NaN</td>\n",
       "      <td>NaN</td>\n",
       "    </tr>\n",
       "    <tr>\n",
       "      <th>31</th>\n",
       "      <td>Bethel School District</td>\n",
       "      <td>90011</td>\n",
       "      <td>Bethel High School</td>\n",
       "      <td>96111</td>\n",
       "      <td>Public Schools</td>\n",
       "      <td>9</td>\n",
       "      <td>12.0</td>\n",
       "      <td>Targeted Assistance</td>\n",
       "      <td>SchoolTot</td>\n",
       "      <td>1018.6</td>\n",
       "      <td>...</td>\n",
       "      <td>-0.5</td>\n",
       "      <td>16.8</td>\n",
       "      <td>19.5</td>\n",
       "      <td>17.3</td>\n",
       "      <td>12.6</td>\n",
       "      <td>NaN</td>\n",
       "      <td>NaN</td>\n",
       "      <td>0</td>\n",
       "      <td>NaN</td>\n",
       "      <td>NaN</td>\n",
       "    </tr>\n",
       "    <tr>\n",
       "      <th>38</th>\n",
       "      <td>Bloomfield School District</td>\n",
       "      <td>110011</td>\n",
       "      <td>Bloomfield High School</td>\n",
       "      <td>116111</td>\n",
       "      <td>Public Schools</td>\n",
       "      <td>9</td>\n",
       "      <td>12.0</td>\n",
       "      <td>NaN</td>\n",
       "      <td>SchoolTot</td>\n",
       "      <td>969.9</td>\n",
       "      <td>...</td>\n",
       "      <td>3.4</td>\n",
       "      <td>16.8</td>\n",
       "      <td>19.5</td>\n",
       "      <td>17.3</td>\n",
       "      <td>12.6</td>\n",
       "      <td>NaN</td>\n",
       "      <td>NaN</td>\n",
       "      <td>0</td>\n",
       "      <td>NaN</td>\n",
       "      <td>NaN</td>\n",
       "    </tr>\n",
       "  </tbody>\n",
       "</table>\n",
       "<p>5 rows × 88 columns</p>\n",
       "</div>"
      ],
      "text/plain": [
       "                 District Name  District Code             School Name  \\\n",
       "6      Ansonia School District          20011     Ansonia High School   \n",
       "14        Avon School District          40011        Avon High School   \n",
       "23      Berlin School District          70011      Berlin High School   \n",
       "31      Bethel School District          90011      Bethel High School   \n",
       "38  Bloomfield School District         110011  Bloomfield High School   \n",
       "\n",
       "    School Code  School OrgType School Low Grade  School High Grade  \\\n",
       "6         26111  Public Schools                9               12.0   \n",
       "14        46111  Public Schools                9               12.0   \n",
       "23        76111  Public Schools                9               12.0   \n",
       "31        96111  Public Schools                9               12.0   \n",
       "38       116111  Public Schools                9               12.0   \n",
       "\n",
       "    School Title I Type   Category  Total Points  \\\n",
       "6                   NaN  SchoolTot         890.9   \n",
       "14  Targeted Assistance  SchoolTot        1077.2   \n",
       "23  Targeted Assistance  SchoolTot         903.3   \n",
       "31  Targeted Assistance  SchoolTot        1018.6   \n",
       "38                  NaN  SchoolTot         969.9   \n",
       "\n",
       "                            ...                           Grad6YrHNNHNDiff  \\\n",
       "6                           ...                                       11.6   \n",
       "14                          ...                                        0.8   \n",
       "23                          ...                                       -4.3   \n",
       "31                          ...                                       -0.5   \n",
       "38                          ...                                        3.4   \n",
       "\n",
       "    Threshold_Mean_ELA  Threshold_Mean_Math  Threshold_Mean_Sci  \\\n",
       "6                 16.8                 19.5                17.3   \n",
       "14                16.8                 19.5                17.3   \n",
       "23                16.8                 19.5                17.3   \n",
       "31                16.8                 19.5                17.3   \n",
       "38                16.8                 19.5                17.3   \n",
       "\n",
       "    Threshold_Mean_Grad  Classification  State Category  # of Distinctions  \\\n",
       "6                  12.6             NaN             NaN                  0   \n",
       "14                 12.6             NaN             NaN                  0   \n",
       "23                 12.6       FOCUS ELA             4.0                  0   \n",
       "31                 12.6             NaN             NaN                  0   \n",
       "38                 12.6             NaN             NaN                  0   \n",
       "\n",
       "    School of Distinction - Highest Performing Overall  \\\n",
       "6                                                 NaN    \n",
       "14                                                NaN    \n",
       "23                                                NaN    \n",
       "31                                                NaN    \n",
       "38                                                NaN    \n",
       "\n",
       "    School of Distintion - Highest Performing High Needs  \n",
       "6                                                 NaN     \n",
       "14                                                NaN     \n",
       "23                                                NaN     \n",
       "31                                                NaN     \n",
       "38                                                NaN     \n",
       "\n",
       "[5 rows x 88 columns]"
      ]
     },
     "execution_count": 7,
     "metadata": {},
     "output_type": "execute_result"
    }
   ],
   "source": [
    "data_path = './data/State_Department_of_Education_Next_Generation_School_Accountability_data_2014-2015.csv'\n",
    "acc = pd.read_csv(data_path)\n",
    "\n",
    "# Filtering using boolean arrays\n",
    "acc = acc[acc[\"School Name\"].str.contains(\"High School\")]\n",
    "# Data cleaning using regex\n",
    "acc[\"School Name\"] = acc[\"School Name\"].str.replace(\"_[0-9]+\", \"\", regex=True)\n",
    "\n",
    "acc.head()"
   ]
  },
  {
   "cell_type": "markdown",
   "metadata": {},
   "source": [
    "#### Using `pd.merge`:"
   ]
  },
  {
   "cell_type": "code",
   "execution_count": 8,
   "metadata": {},
   "outputs": [
    {
     "data": {
      "text/html": [
       "<div>\n",
       "<style scoped>\n",
       "    .dataframe tbody tr th:only-of-type {\n",
       "        vertical-align: middle;\n",
       "    }\n",
       "\n",
       "    .dataframe tbody tr th {\n",
       "        vertical-align: top;\n",
       "    }\n",
       "\n",
       "    .dataframe thead th {\n",
       "        text-align: right;\n",
       "    }\n",
       "</style>\n",
       "<table border=\"1\" class=\"dataframe\">\n",
       "  <thead>\n",
       "    <tr style=\"text-align: right;\">\n",
       "      <th></th>\n",
       "      <th>District Number</th>\n",
       "      <th>District</th>\n",
       "      <th>School</th>\n",
       "      <th>Test-takers: 2012</th>\n",
       "      <th>Test-takers: 2013</th>\n",
       "      <th>Participation Rate (estimate): 2012</th>\n",
       "      <th>Participation Rate (estimate): 2013</th>\n",
       "      <th>Percent Meeting Benchmark: 2012</th>\n",
       "      <th>Percent Meeting Benchmark: 2013</th>\n",
       "      <th>District Name</th>\n",
       "      <th>...</th>\n",
       "      <th>Grad6YrHNNHNDiff</th>\n",
       "      <th>Threshold_Mean_ELA</th>\n",
       "      <th>Threshold_Mean_Math</th>\n",
       "      <th>Threshold_Mean_Sci</th>\n",
       "      <th>Threshold_Mean_Grad</th>\n",
       "      <th>Classification</th>\n",
       "      <th>State Category</th>\n",
       "      <th># of Distinctions</th>\n",
       "      <th>School of Distinction - Highest Performing Overall</th>\n",
       "      <th>School of Distintion - Highest Performing High Needs</th>\n",
       "    </tr>\n",
       "  </thead>\n",
       "  <tbody>\n",
       "    <tr>\n",
       "      <th>0</th>\n",
       "      <td>26111</td>\n",
       "      <td>Ansonia</td>\n",
       "      <td>Ansonia High School</td>\n",
       "      <td>118.0</td>\n",
       "      <td>104.0</td>\n",
       "      <td>67.0</td>\n",
       "      <td>61.0</td>\n",
       "      <td>18.0</td>\n",
       "      <td>18.0</td>\n",
       "      <td>Ansonia School District</td>\n",
       "      <td>...</td>\n",
       "      <td>11.6</td>\n",
       "      <td>16.8</td>\n",
       "      <td>19.5</td>\n",
       "      <td>17.3</td>\n",
       "      <td>12.6</td>\n",
       "      <td>NaN</td>\n",
       "      <td>NaN</td>\n",
       "      <td>0</td>\n",
       "      <td>NaN</td>\n",
       "      <td>NaN</td>\n",
       "    </tr>\n",
       "    <tr>\n",
       "      <th>1</th>\n",
       "      <td>46111</td>\n",
       "      <td>Avon</td>\n",
       "      <td>Avon High School</td>\n",
       "      <td>254.0</td>\n",
       "      <td>243.0</td>\n",
       "      <td>90.0</td>\n",
       "      <td>89.0</td>\n",
       "      <td>73.0</td>\n",
       "      <td>75.0</td>\n",
       "      <td>Avon School District</td>\n",
       "      <td>...</td>\n",
       "      <td>0.8</td>\n",
       "      <td>16.8</td>\n",
       "      <td>19.5</td>\n",
       "      <td>17.3</td>\n",
       "      <td>12.6</td>\n",
       "      <td>NaN</td>\n",
       "      <td>NaN</td>\n",
       "      <td>0</td>\n",
       "      <td>NaN</td>\n",
       "      <td>NaN</td>\n",
       "    </tr>\n",
       "    <tr>\n",
       "      <th>2</th>\n",
       "      <td>76111</td>\n",
       "      <td>Berlin</td>\n",
       "      <td>Berlin High School</td>\n",
       "      <td>216.0</td>\n",
       "      <td>220.0</td>\n",
       "      <td>81.0</td>\n",
       "      <td>82.0</td>\n",
       "      <td>42.0</td>\n",
       "      <td>49.0</td>\n",
       "      <td>Berlin School District</td>\n",
       "      <td>...</td>\n",
       "      <td>-4.3</td>\n",
       "      <td>16.8</td>\n",
       "      <td>19.5</td>\n",
       "      <td>17.3</td>\n",
       "      <td>12.6</td>\n",
       "      <td>FOCUS ELA</td>\n",
       "      <td>4.0</td>\n",
       "      <td>0</td>\n",
       "      <td>NaN</td>\n",
       "      <td>NaN</td>\n",
       "    </tr>\n",
       "    <tr>\n",
       "      <th>3</th>\n",
       "      <td>96111</td>\n",
       "      <td>Bethel</td>\n",
       "      <td>Bethel High School</td>\n",
       "      <td>200.0</td>\n",
       "      <td>190.0</td>\n",
       "      <td>86.0</td>\n",
       "      <td>82.0</td>\n",
       "      <td>51.0</td>\n",
       "      <td>49.0</td>\n",
       "      <td>Bethel School District</td>\n",
       "      <td>...</td>\n",
       "      <td>-0.5</td>\n",
       "      <td>16.8</td>\n",
       "      <td>19.5</td>\n",
       "      <td>17.3</td>\n",
       "      <td>12.6</td>\n",
       "      <td>NaN</td>\n",
       "      <td>NaN</td>\n",
       "      <td>0</td>\n",
       "      <td>NaN</td>\n",
       "      <td>NaN</td>\n",
       "    </tr>\n",
       "    <tr>\n",
       "      <th>4</th>\n",
       "      <td>116111</td>\n",
       "      <td>Bloomfield</td>\n",
       "      <td>Bloomfield High School</td>\n",
       "      <td>116.0</td>\n",
       "      <td>130.0</td>\n",
       "      <td>79.0</td>\n",
       "      <td>89.0</td>\n",
       "      <td>11.0</td>\n",
       "      <td>8.0</td>\n",
       "      <td>Bloomfield School District</td>\n",
       "      <td>...</td>\n",
       "      <td>3.4</td>\n",
       "      <td>16.8</td>\n",
       "      <td>19.5</td>\n",
       "      <td>17.3</td>\n",
       "      <td>12.6</td>\n",
       "      <td>NaN</td>\n",
       "      <td>NaN</td>\n",
       "      <td>0</td>\n",
       "      <td>NaN</td>\n",
       "      <td>NaN</td>\n",
       "    </tr>\n",
       "  </tbody>\n",
       "</table>\n",
       "<p>5 rows × 97 columns</p>\n",
       "</div>"
      ],
      "text/plain": [
       "   District Number    District                  School  Test-takers: 2012  \\\n",
       "0            26111     Ansonia     Ansonia High School              118.0   \n",
       "1            46111        Avon        Avon High School              254.0   \n",
       "2            76111      Berlin      Berlin High School              216.0   \n",
       "3            96111      Bethel      Bethel High School              200.0   \n",
       "4           116111  Bloomfield  Bloomfield High School              116.0   \n",
       "\n",
       "   Test-takers: 2013  Participation Rate (estimate): 2012  \\\n",
       "0              104.0                                 67.0   \n",
       "1              243.0                                 90.0   \n",
       "2              220.0                                 81.0   \n",
       "3              190.0                                 86.0   \n",
       "4              130.0                                 79.0   \n",
       "\n",
       "   Participation Rate (estimate): 2013  Percent Meeting Benchmark: 2012  \\\n",
       "0                                 61.0                             18.0   \n",
       "1                                 89.0                             73.0   \n",
       "2                                 82.0                             42.0   \n",
       "3                                 82.0                             51.0   \n",
       "4                                 89.0                             11.0   \n",
       "\n",
       "   Percent Meeting Benchmark: 2013               District Name  \\\n",
       "0                             18.0     Ansonia School District   \n",
       "1                             75.0        Avon School District   \n",
       "2                             49.0      Berlin School District   \n",
       "3                             49.0      Bethel School District   \n",
       "4                              8.0  Bloomfield School District   \n",
       "\n",
       "                           ...                           Grad6YrHNNHNDiff  \\\n",
       "0                          ...                                       11.6   \n",
       "1                          ...                                        0.8   \n",
       "2                          ...                                       -4.3   \n",
       "3                          ...                                       -0.5   \n",
       "4                          ...                                        3.4   \n",
       "\n",
       "  Threshold_Mean_ELA  Threshold_Mean_Math Threshold_Mean_Sci  \\\n",
       "0               16.8                 19.5               17.3   \n",
       "1               16.8                 19.5               17.3   \n",
       "2               16.8                 19.5               17.3   \n",
       "3               16.8                 19.5               17.3   \n",
       "4               16.8                 19.5               17.3   \n",
       "\n",
       "  Threshold_Mean_Grad  Classification State Category # of Distinctions  \\\n",
       "0                12.6             NaN            NaN                 0   \n",
       "1                12.6             NaN            NaN                 0   \n",
       "2                12.6       FOCUS ELA            4.0                 0   \n",
       "3                12.6             NaN            NaN                 0   \n",
       "4                12.6             NaN            NaN                 0   \n",
       "\n",
       "   School of Distinction - Highest Performing Overall  \\\n",
       "0                                                NaN    \n",
       "1                                                NaN    \n",
       "2                                                NaN    \n",
       "3                                                NaN    \n",
       "4                                                NaN    \n",
       "\n",
       "   School of Distintion - Highest Performing High Needs  \n",
       "0                                                NaN     \n",
       "1                                                NaN     \n",
       "2                                                NaN     \n",
       "3                                                NaN     \n",
       "4                                                NaN     \n",
       "\n",
       "[5 rows x 97 columns]"
      ]
     },
     "execution_count": 8,
     "metadata": {},
     "output_type": "execute_result"
    }
   ],
   "source": [
    "pandas_merge = pd.merge(left=sat, right=acc, how='inner', left_on=\"School\", right_on=\"School Name\")\n",
    "pandas_merge.head()"
   ]
  },
  {
   "cell_type": "markdown",
   "metadata": {},
   "source": [
    "Let's unpack what just happened:\n",
    "\n",
    "- We set `left=sat` and `right=acc`. This tells `pandas` that the left table is `sat` and the right table is `acc`. The reason why we have to define a left and right table is because of joining. In most cases, it doesn't matter which table you set to be `left` or `right` as long as you use the appropriate join.\n",
    "\n",
    "\n",
    "- We set `left_on=\"School\"` and `right_on=\"School Name\"`. This tells `pandas` what the relationship between the left and the right tables is. In this case, we are saying that the `\"School\"` column of the left table is related to the `\"School Name\"` column of the right table. \n",
    "\n",
    "\n",
    "- We set `how='inner'`. This tells `pandas` we want to do an *inner join*, meaning we want our merged `DataFrame` to only contain rows where the value of `left_on` matches a value of `right_on`. Inner joins are the most common form of joins, but there are other types of joins too. The 'Joins' section of [this part](https://www.textbook.ds100.org/ch/05/cleaning_structure.html) of the textbook does a great job explaining the differences between types of joins."
   ]
  },
  {
   "cell_type": "markdown",
   "metadata": {},
   "source": [
    "#### Using `df.merge`:"
   ]
  },
  {
   "cell_type": "markdown",
   "metadata": {},
   "source": [
    "We can do the exact same merge using `df.merge`. The only difference is that `df` is what `left` was in `pd.merge`."
   ]
  },
  {
   "cell_type": "code",
   "execution_count": 9,
   "metadata": {},
   "outputs": [
    {
     "data": {
      "text/html": [
       "<div>\n",
       "<style scoped>\n",
       "    .dataframe tbody tr th:only-of-type {\n",
       "        vertical-align: middle;\n",
       "    }\n",
       "\n",
       "    .dataframe tbody tr th {\n",
       "        vertical-align: top;\n",
       "    }\n",
       "\n",
       "    .dataframe thead th {\n",
       "        text-align: right;\n",
       "    }\n",
       "</style>\n",
       "<table border=\"1\" class=\"dataframe\">\n",
       "  <thead>\n",
       "    <tr style=\"text-align: right;\">\n",
       "      <th></th>\n",
       "      <th>District Number</th>\n",
       "      <th>District</th>\n",
       "      <th>School</th>\n",
       "      <th>Test-takers: 2012</th>\n",
       "      <th>Test-takers: 2013</th>\n",
       "      <th>Participation Rate (estimate): 2012</th>\n",
       "      <th>Participation Rate (estimate): 2013</th>\n",
       "      <th>Percent Meeting Benchmark: 2012</th>\n",
       "      <th>Percent Meeting Benchmark: 2013</th>\n",
       "      <th>District Name</th>\n",
       "      <th>...</th>\n",
       "      <th>Grad6YrHNNHNDiff</th>\n",
       "      <th>Threshold_Mean_ELA</th>\n",
       "      <th>Threshold_Mean_Math</th>\n",
       "      <th>Threshold_Mean_Sci</th>\n",
       "      <th>Threshold_Mean_Grad</th>\n",
       "      <th>Classification</th>\n",
       "      <th>State Category</th>\n",
       "      <th># of Distinctions</th>\n",
       "      <th>School of Distinction - Highest Performing Overall</th>\n",
       "      <th>School of Distintion - Highest Performing High Needs</th>\n",
       "    </tr>\n",
       "  </thead>\n",
       "  <tbody>\n",
       "    <tr>\n",
       "      <th>0</th>\n",
       "      <td>26111</td>\n",
       "      <td>Ansonia</td>\n",
       "      <td>Ansonia High School</td>\n",
       "      <td>118.0</td>\n",
       "      <td>104.0</td>\n",
       "      <td>67.0</td>\n",
       "      <td>61.0</td>\n",
       "      <td>18.0</td>\n",
       "      <td>18.0</td>\n",
       "      <td>Ansonia School District</td>\n",
       "      <td>...</td>\n",
       "      <td>11.6</td>\n",
       "      <td>16.8</td>\n",
       "      <td>19.5</td>\n",
       "      <td>17.3</td>\n",
       "      <td>12.6</td>\n",
       "      <td>NaN</td>\n",
       "      <td>NaN</td>\n",
       "      <td>0</td>\n",
       "      <td>NaN</td>\n",
       "      <td>NaN</td>\n",
       "    </tr>\n",
       "    <tr>\n",
       "      <th>1</th>\n",
       "      <td>46111</td>\n",
       "      <td>Avon</td>\n",
       "      <td>Avon High School</td>\n",
       "      <td>254.0</td>\n",
       "      <td>243.0</td>\n",
       "      <td>90.0</td>\n",
       "      <td>89.0</td>\n",
       "      <td>73.0</td>\n",
       "      <td>75.0</td>\n",
       "      <td>Avon School District</td>\n",
       "      <td>...</td>\n",
       "      <td>0.8</td>\n",
       "      <td>16.8</td>\n",
       "      <td>19.5</td>\n",
       "      <td>17.3</td>\n",
       "      <td>12.6</td>\n",
       "      <td>NaN</td>\n",
       "      <td>NaN</td>\n",
       "      <td>0</td>\n",
       "      <td>NaN</td>\n",
       "      <td>NaN</td>\n",
       "    </tr>\n",
       "    <tr>\n",
       "      <th>2</th>\n",
       "      <td>76111</td>\n",
       "      <td>Berlin</td>\n",
       "      <td>Berlin High School</td>\n",
       "      <td>216.0</td>\n",
       "      <td>220.0</td>\n",
       "      <td>81.0</td>\n",
       "      <td>82.0</td>\n",
       "      <td>42.0</td>\n",
       "      <td>49.0</td>\n",
       "      <td>Berlin School District</td>\n",
       "      <td>...</td>\n",
       "      <td>-4.3</td>\n",
       "      <td>16.8</td>\n",
       "      <td>19.5</td>\n",
       "      <td>17.3</td>\n",
       "      <td>12.6</td>\n",
       "      <td>FOCUS ELA</td>\n",
       "      <td>4.0</td>\n",
       "      <td>0</td>\n",
       "      <td>NaN</td>\n",
       "      <td>NaN</td>\n",
       "    </tr>\n",
       "    <tr>\n",
       "      <th>3</th>\n",
       "      <td>96111</td>\n",
       "      <td>Bethel</td>\n",
       "      <td>Bethel High School</td>\n",
       "      <td>200.0</td>\n",
       "      <td>190.0</td>\n",
       "      <td>86.0</td>\n",
       "      <td>82.0</td>\n",
       "      <td>51.0</td>\n",
       "      <td>49.0</td>\n",
       "      <td>Bethel School District</td>\n",
       "      <td>...</td>\n",
       "      <td>-0.5</td>\n",
       "      <td>16.8</td>\n",
       "      <td>19.5</td>\n",
       "      <td>17.3</td>\n",
       "      <td>12.6</td>\n",
       "      <td>NaN</td>\n",
       "      <td>NaN</td>\n",
       "      <td>0</td>\n",
       "      <td>NaN</td>\n",
       "      <td>NaN</td>\n",
       "    </tr>\n",
       "    <tr>\n",
       "      <th>4</th>\n",
       "      <td>116111</td>\n",
       "      <td>Bloomfield</td>\n",
       "      <td>Bloomfield High School</td>\n",
       "      <td>116.0</td>\n",
       "      <td>130.0</td>\n",
       "      <td>79.0</td>\n",
       "      <td>89.0</td>\n",
       "      <td>11.0</td>\n",
       "      <td>8.0</td>\n",
       "      <td>Bloomfield School District</td>\n",
       "      <td>...</td>\n",
       "      <td>3.4</td>\n",
       "      <td>16.8</td>\n",
       "      <td>19.5</td>\n",
       "      <td>17.3</td>\n",
       "      <td>12.6</td>\n",
       "      <td>NaN</td>\n",
       "      <td>NaN</td>\n",
       "      <td>0</td>\n",
       "      <td>NaN</td>\n",
       "      <td>NaN</td>\n",
       "    </tr>\n",
       "  </tbody>\n",
       "</table>\n",
       "<p>5 rows × 97 columns</p>\n",
       "</div>"
      ],
      "text/plain": [
       "   District Number    District                  School  Test-takers: 2012  \\\n",
       "0            26111     Ansonia     Ansonia High School              118.0   \n",
       "1            46111        Avon        Avon High School              254.0   \n",
       "2            76111      Berlin      Berlin High School              216.0   \n",
       "3            96111      Bethel      Bethel High School              200.0   \n",
       "4           116111  Bloomfield  Bloomfield High School              116.0   \n",
       "\n",
       "   Test-takers: 2013  Participation Rate (estimate): 2012  \\\n",
       "0              104.0                                 67.0   \n",
       "1              243.0                                 90.0   \n",
       "2              220.0                                 81.0   \n",
       "3              190.0                                 86.0   \n",
       "4              130.0                                 79.0   \n",
       "\n",
       "   Participation Rate (estimate): 2013  Percent Meeting Benchmark: 2012  \\\n",
       "0                                 61.0                             18.0   \n",
       "1                                 89.0                             73.0   \n",
       "2                                 82.0                             42.0   \n",
       "3                                 82.0                             51.0   \n",
       "4                                 89.0                             11.0   \n",
       "\n",
       "   Percent Meeting Benchmark: 2013               District Name  \\\n",
       "0                             18.0     Ansonia School District   \n",
       "1                             75.0        Avon School District   \n",
       "2                             49.0      Berlin School District   \n",
       "3                             49.0      Bethel School District   \n",
       "4                              8.0  Bloomfield School District   \n",
       "\n",
       "                           ...                           Grad6YrHNNHNDiff  \\\n",
       "0                          ...                                       11.6   \n",
       "1                          ...                                        0.8   \n",
       "2                          ...                                       -4.3   \n",
       "3                          ...                                       -0.5   \n",
       "4                          ...                                        3.4   \n",
       "\n",
       "  Threshold_Mean_ELA  Threshold_Mean_Math Threshold_Mean_Sci  \\\n",
       "0               16.8                 19.5               17.3   \n",
       "1               16.8                 19.5               17.3   \n",
       "2               16.8                 19.5               17.3   \n",
       "3               16.8                 19.5               17.3   \n",
       "4               16.8                 19.5               17.3   \n",
       "\n",
       "  Threshold_Mean_Grad  Classification State Category # of Distinctions  \\\n",
       "0                12.6             NaN            NaN                 0   \n",
       "1                12.6             NaN            NaN                 0   \n",
       "2                12.6       FOCUS ELA            4.0                 0   \n",
       "3                12.6             NaN            NaN                 0   \n",
       "4                12.6             NaN            NaN                 0   \n",
       "\n",
       "   School of Distinction - Highest Performing Overall  \\\n",
       "0                                                NaN    \n",
       "1                                                NaN    \n",
       "2                                                NaN    \n",
       "3                                                NaN    \n",
       "4                                                NaN    \n",
       "\n",
       "   School of Distintion - Highest Performing High Needs  \n",
       "0                                                NaN     \n",
       "1                                                NaN     \n",
       "2                                                NaN     \n",
       "3                                                NaN     \n",
       "4                                                NaN     \n",
       "\n",
       "[5 rows x 97 columns]"
      ]
     },
     "execution_count": 9,
     "metadata": {},
     "output_type": "execute_result"
    }
   ],
   "source": [
    "df_merge = sat.merge(right=acc, how='inner', left_on='School', right_on='School Name')\n",
    "df_merge.head()"
   ]
  },
  {
   "cell_type": "markdown",
   "metadata": {},
   "source": [
    "We can also confirm that `pandas_merge` and `df_merge` are the same:"
   ]
  },
  {
   "cell_type": "code",
   "execution_count": 10,
   "metadata": {},
   "outputs": [
    {
     "data": {
      "text/plain": [
       "True"
      ]
     },
     "execution_count": 10,
     "metadata": {},
     "output_type": "execute_result"
    }
   ],
   "source": [
    "pandas_merge.equals(df_merge)"
   ]
  },
  {
   "cell_type": "markdown",
   "metadata": {},
   "source": [
    "### Merging Use Cases"
   ]
  },
  {
   "cell_type": "markdown",
   "metadata": {},
   "source": [
    "Now that we have a merged table, we can answer more questions about our data than we could have with just our original data.\n",
    "\n",
    "**Let's see whether there seems to be a relationship between the SAT participation rate of a school and their Accountability Index**, which aims to measure how well a school prepares a student for success beyond high school."
   ]
  },
  {
   "cell_type": "code",
   "execution_count": 11,
   "metadata": {},
   "outputs": [
    {
     "data": {
      "image/png": "[encoded data removed]",
      "text/plain": [
       "<Figure size 360x360 with 1 Axes>"
      ]
     },
     "metadata": {
      "needs_background": "light"
     },
     "output_type": "display_data"
    }
   ],
   "source": [
    "sns.lmplot(x=\"Participation Rate (estimate): 2013\", y='Accountability Index', data=pandas_merge);"
   ]
  },
  {
   "cell_type": "markdown",
   "metadata": {},
   "source": [
    "Excepting a few outliers, there seems to be a positive relationship between participation rate and accountability index. Thus, we have evidence (though not strong) to claim that in Connecticut, students who took the SAT were more prepared for life after high school than those who didn't. \n",
    "\n",
    "With the original data, we were unable to make such a claim. But with merging, we made use of information outside our original data to make broader claims."
   ]
  },
  {
   "cell_type": "markdown",
   "metadata": {},
   "source": [
    "### Merging Common Mistakes"
   ]
  },
  {
   "cell_type": "markdown",
   "metadata": {},
   "source": [
    "#### Using the wrong type of join"
   ]
  },
  {
   "cell_type": "markdown",
   "metadata": {},
   "source": [
    "The most common mistake students make in merging is using the wrong type of join. The only way to avoid this mistake is to really understand what the differences between types of joins are, which is really well described in [this section of the textbook.](https://www.textbook.ds100.org/ch/05/cleaning_structure.html)\n",
    "\n",
    "**Tip:** In this course (and in general), you will most likely be using an inner join or a left join."
   ]
  },
  {
   "cell_type": "markdown",
   "metadata": {},
   "source": [
    "#### Forgetting to specify `left_on` and `right_on`"
   ]
  },
  {
   "cell_type": "markdown",
   "metadata": {},
   "source": [
    "Many students forget that merging 2 tables is not just attaching one table to the end of another. The reason we merge tables is because there is some relationship between those 2 tables. When we merge, we use that relationship to match rows of one table with rows of the other table. In `pandas`, we specify the relationship between tables using the `left_on` and `right_on` arguments.\n",
    "\n",
    "In our example, both tables had a column containing the name of the school, so we used those columns to merge the tables."
   ]
  },
  {
   "cell_type": "markdown",
   "metadata": {},
   "source": [
    "# Conclusion"
   ]
  },
  {
   "cell_type": "markdown",
   "metadata": {},
   "source": [
    "I really hope this notebook clarified any doubts/misconceptions you may have had about grouping or merging.\n",
    "\n",
    "If you have any questions or feedback, you can email me (rkunani@berkeley.edu) or post on Piazza!"
   ]
  }
 ],
 "metadata": {
  "kernelspec": {
   "display_name": "Python 3",
   "language": "python",
   "name": "python3"
  },
  "language_info": {
   "codemirror_mode": {
    "name": "ipython",
    "version": 3
   },
   "file_extension": ".py",
   "mimetype": "text/x-python",
   "name": "python",
   "nbconvert_exporter": "python",
   "pygments_lexer": "ipython3",
   "version": "3.7.3"
  }
 },
 "nbformat": 4,
 "nbformat_minor": 2
}
